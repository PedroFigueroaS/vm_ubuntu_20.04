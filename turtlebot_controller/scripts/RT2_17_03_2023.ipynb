{
 "cells": [
  {
   "cell_type": "code",
   "execution_count": 16,
   "id": "4509e90e",
   "metadata": {
    "ExecuteTime": {
     "end_time": "2023-04-08T15:03:28.922118Z",
     "start_time": "2023-04-08T15:03:28.885951Z"
    },
    "scrolled": true
   },
   "outputs": [
    {
     "data": {
      "application/vnd.jupyter.widget-view+json": {
       "model_id": "71a68fa014314cd0805bf76c2cd91fdc",
       "version_major": 2,
       "version_minor": 0
      },
      "text/plain": [
       "IntSlider(value=0)"
      ]
     },
     "metadata": {},
     "output_type": "display_data"
    }
   ],
   "source": [
    "import ipywidgets as widgets\n",
    "\n",
    "\n",
    "w=widgets.IntSlider(continuous_update=True)\n",
    "display(w)\n",
    "\n"
   ]
  },
  {
   "cell_type": "code",
   "execution_count": 19,
   "id": "bd6a5291",
   "metadata": {
    "ExecuteTime": {
     "end_time": "2023-04-08T15:05:38.376795Z",
     "start_time": "2023-04-08T15:05:38.351996Z"
    }
   },
   "outputs": [
    {
     "data": {
      "text/plain": [
       "47"
      ]
     },
     "execution_count": 19,
     "metadata": {},
     "output_type": "execute_result"
    }
   ],
   "source": [
    "widgets.Text(value='Hello World!', disabled=True)\n",
    "w.value"
   ]
  },
  {
   "cell_type": "code",
   "execution_count": 3,
   "id": "502b49fd",
   "metadata": {
    "ExecuteTime": {
     "end_time": "2023-04-08T14:49:22.000238Z",
     "start_time": "2023-04-08T14:49:21.957784Z"
    }
   },
   "outputs": [
    {
     "data": {
      "application/vnd.jupyter.widget-view+json": {
       "model_id": "b3bb9715898d4a479e004c8dfc465092",
       "version_major": 2,
       "version_minor": 0
      },
      "text/plain": [
       "Text(value='Hello World!', disabled=True)"
      ]
     },
     "metadata": {},
     "output_type": "display_data"
    }
   ],
   "source": [
    "a = widgets.Text(value='Hello World!', disabled=True)\n",
    "display (a)\n",
    "a.disabled = False"
   ]
  },
  {
   "cell_type": "code",
   "execution_count": 4,
   "id": "da83f127",
   "metadata": {
    "ExecuteTime": {
     "end_time": "2023-04-08T14:49:22.099662Z",
     "start_time": "2023-04-08T14:49:22.003448Z"
    }
   },
   "outputs": [
    {
     "data": {
      "application/vnd.jupyter.widget-view+json": {
       "model_id": "0ff19177fe134243a997a51bba888bf5",
       "version_major": 2,
       "version_minor": 0
      },
      "text/plain": [
       "FloatText(value=0.0)"
      ]
     },
     "metadata": {},
     "output_type": "display_data"
    },
    {
     "data": {
      "application/vnd.jupyter.widget-view+json": {
       "model_id": "fc6b1f1c56b145569c8f6457db5d81c5",
       "version_major": 2,
       "version_minor": 0
      },
      "text/plain": [
       "FloatSlider(value=0.0)"
      ]
     },
     "metadata": {},
     "output_type": "display_data"
    },
    {
     "name": "stdout",
     "output_type": "stream",
     "text": [
      "0.0\n"
     ]
    }
   ],
   "source": [
    "a=widgets.FloatText()\n",
    "b=widgets.FloatSlider()\n",
    "display(a,b)\n",
    "print(a.value)"
   ]
  },
  {
   "cell_type": "code",
   "execution_count": 5,
   "id": "fd22e684",
   "metadata": {
    "ExecuteTime": {
     "end_time": "2023-04-08T14:49:22.139134Z",
     "start_time": "2023-04-08T14:49:22.120280Z"
    }
   },
   "outputs": [],
   "source": [
    "mylink=widgets.jslink((a,'value'),(b,'value'))\n"
   ]
  },
  {
   "cell_type": "code",
   "execution_count": 6,
   "id": "3a0366d9",
   "metadata": {
    "ExecuteTime": {
     "end_time": "2023-04-08T14:49:22.173764Z",
     "start_time": "2023-04-08T14:49:22.147362Z"
    }
   },
   "outputs": [
    {
     "data": {
      "application/vnd.jupyter.widget-view+json": {
       "model_id": "97c14d452f11438a8fa4a48e35bceade",
       "version_major": 2,
       "version_minor": 0
      },
      "text/plain": [
       "IntSlider(value=0)"
      ]
     },
     "metadata": {},
     "output_type": "display_data"
    }
   ],
   "source": [
    "display(w)"
   ]
  },
  {
   "cell_type": "code",
   "execution_count": 7,
   "id": "e6c076b7",
   "metadata": {
    "ExecuteTime": {
     "end_time": "2023-04-08T14:49:22.261761Z",
     "start_time": "2023-04-08T14:49:22.187735Z"
    }
   },
   "outputs": [
    {
     "data": {
      "application/vnd.jupyter.widget-view+json": {
       "model_id": "eaac110ecc2d45879d5396487283d02b",
       "version_major": 2,
       "version_minor": 0
      },
      "text/plain": [
       "IntSlider(value=7, continuous_update=False, description='Test:', max=10)"
      ]
     },
     "metadata": {},
     "output_type": "display_data"
    },
    {
     "data": {
      "application/vnd.jupyter.widget-view+json": {
       "model_id": "576aa4d2b1c44634a167cc008f032d92",
       "version_major": 2,
       "version_minor": 0
      },
      "text/plain": [
       "IntSlider(value=0)"
      ]
     },
     "metadata": {},
     "output_type": "display_data"
    }
   ],
   "source": [
    "c = widgets.IntSlider(value=7,min=0,max=10,step=1,description='Test:',disabled=False,continuous_update=False,orientation='horizontal',readout=True,readout_format='d')\n",
    "d = widgets.IntSlider()\n",
    "display (c,d)\n",
    "mylink2 = widgets.jslink((c,'value'),(d,'value'))\n"
   ]
  },
  {
   "cell_type": "code",
   "execution_count": 8,
   "id": "cd0ae483",
   "metadata": {
    "ExecuteTime": {
     "end_time": "2023-04-08T14:49:22.311121Z",
     "start_time": "2023-04-08T14:49:22.272774Z"
    }
   },
   "outputs": [
    {
     "data": {
      "application/vnd.jupyter.widget-view+json": {
       "model_id": "3440b6e4462848bcab5c3bb7eccec03c",
       "version_major": 2,
       "version_minor": 0
      },
      "text/plain": [
       "FloatSlider(value=0.0, orientation='vertical')"
      ]
     },
     "metadata": {},
     "output_type": "display_data"
    }
   ],
   "source": [
    "widgets.FloatSlider(orientation='vertical')\n",
    "\n"
   ]
  },
  {
   "cell_type": "code",
   "execution_count": 9,
   "id": "25f9eeab",
   "metadata": {
    "ExecuteTime": {
     "end_time": "2023-04-08T14:49:22.353499Z",
     "start_time": "2023-04-08T14:49:22.322401Z"
    }
   },
   "outputs": [
    {
     "data": {
      "application/vnd.jupyter.widget-view+json": {
       "model_id": "84962873cb6741a4b1eac72d2ff0c82c",
       "version_major": 2,
       "version_minor": 0
      },
      "text/plain": [
       "FloatLogSlider(value=10.0, description='Log Slider', max=10.0, min=-10.0, orientation='vertical', step=1.0)"
      ]
     },
     "metadata": {},
     "output_type": "display_data"
    }
   ],
   "source": [
    "widgets.FloatLogSlider(value=10, base=10, min=-10, max=10, step=1.0, orientation='vertical',description='Log Slider')\n"
   ]
  },
  {
   "cell_type": "code",
   "execution_count": 10,
   "id": "73f5d02b",
   "metadata": {
    "ExecuteTime": {
     "end_time": "2023-04-08T14:49:22.388158Z",
     "start_time": "2023-04-08T14:49:22.358181Z"
    }
   },
   "outputs": [
    {
     "data": {
      "application/vnd.jupyter.widget-view+json": {
       "model_id": "8a1c152077564ddcb3537d979e388de6",
       "version_major": 2,
       "version_minor": 0
      },
      "text/plain": [
       "FloatText(value=7.5)"
      ]
     },
     "metadata": {},
     "output_type": "display_data"
    },
    {
     "data": {
      "application/vnd.jupyter.widget-view+json": {
       "model_id": "8a1c152077564ddcb3537d979e388de6",
       "version_major": 2,
       "version_minor": 0
      },
      "text/plain": [
       "FloatText(value=7.5)"
      ]
     },
     "metadata": {},
     "output_type": "display_data"
    }
   ],
   "source": [
    "widgets.FloatText(value=7.5)"
   ]
  },
  {
   "cell_type": "code",
   "execution_count": 11,
   "id": "ade7b72e",
   "metadata": {
    "ExecuteTime": {
     "end_time": "2023-04-08T14:49:22.415639Z",
     "start_time": "2023-04-08T14:49:22.394576Z"
    }
   },
   "outputs": [],
   "source": [
    "widgets.ToggleButton(\n",
    "    value=False,\n",
    "    description='Click me',\n",
    "    disabled=False,\n",
    "    button_style='',#'success', 'info', 'warning', 'danger' or ‘’\n",
    "    icon = 'check'\n",
    ")\n"
   ]
  },
  {
   "cell_type": "code",
   "execution_count": 12,
   "id": "472ee030",
   "metadata": {
    "ExecuteTime": {
     "end_time": "2023-04-08T14:49:22.486433Z",
     "start_time": "2023-04-08T14:49:22.419282Z"
    }
   },
   "outputs": [],
   "source": [
    "widgets.Checkbox(\n",
    "    value=False,\n",
    "    description='Check me',\n",
    "    disabled=False\n",
    ")"
   ]
  },
  {
   "cell_type": "code",
   "execution_count": 13,
   "id": "556ea369",
   "metadata": {
    "ExecuteTime": {
     "end_time": "2023-04-08T14:49:22.560687Z",
     "start_time": "2023-04-08T14:49:22.496111Z"
    }
   },
   "outputs": [],
   "source": [
    "widgets.Valid(\n",
    "    value=False,\n",
    "    description='Valid!',\n",
    ")"
   ]
  },
  {
   "cell_type": "code",
   "execution_count": 14,
   "id": "635730d6",
   "metadata": {
    "ExecuteTime": {
     "end_time": "2023-04-08T14:49:22.712843Z",
     "start_time": "2023-04-08T14:49:22.596711Z"
    }
   },
   "outputs": [],
   "source": [
    "a = widgets.IntSlider(description='a')\n",
    "b = widgets.IntSlider(description='b')\n",
    "c = widgets.IntSlider(description='c')\n",
    "def f(a, b, c):\n",
    "    print('{}*{}*{}={}'.format(a, b, c, a*b*c))\n",
    "out = widgets.interactive_output(f, {'a': a, 'b': b, 'c': c})\n",
    "widgets.HBox([widgets.VBox([a, b, c]), out])\n"
   ]
  }
 ],
 "metadata": {
  "kernelspec": {
   "display_name": "Python 3 (ipykernel)",
   "language": "python",
   "name": "python3"
  },
  "language_info": {
   "codemirror_mode": {
    "name": "ipython",
    "version": 3
   },
   "file_extension": ".py",
   "mimetype": "text/x-python",
   "name": "python",
   "nbconvert_exporter": "python",
   "pygments_lexer": "ipython3",
   "version": "3.8.10"
  },
  "toc": {
   "base_numbering": 1,
   "nav_menu": {},
   "number_sections": true,
   "sideBar": true,
   "skip_h1_title": false,
   "title_cell": "Table of Contents",
   "title_sidebar": "Contents",
   "toc_cell": false,
   "toc_position": {},
   "toc_section_display": true,
   "toc_window_display": false
  },
  "varInspector": {
   "cols": {
    "lenName": 16,
    "lenType": 16,
    "lenVar": 40
   },
   "kernels_config": {
    "python": {
     "delete_cmd_postfix": "",
     "delete_cmd_prefix": "del ",
     "library": "var_list.py",
     "varRefreshCmd": "print(var_dic_list())"
    },
    "r": {
     "delete_cmd_postfix": ") ",
     "delete_cmd_prefix": "rm(",
     "library": "var_list.r",
     "varRefreshCmd": "cat(var_dic_list()) "
    }
   },
   "types_to_exclude": [
    "module",
    "function",
    "builtin_function_or_method",
    "instance",
    "_Feature"
   ],
   "window_display": false
  }
 },
 "nbformat": 4,
 "nbformat_minor": 5
}
