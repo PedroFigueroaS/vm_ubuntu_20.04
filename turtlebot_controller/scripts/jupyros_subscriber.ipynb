{
 "cells": [
  {
   "cell_type": "code",
   "execution_count": 1,
   "id": "e2a7ae7c",
   "metadata": {
    "ExecuteTime": {
     "end_time": "2023-04-12T15:57:56.786002Z",
     "start_time": "2023-04-12T15:57:55.228838Z"
    }
   },
   "outputs": [],
   "source": [
    "import jupyros as jr\n",
    "import rospy\n",
    "from std_msgs.msg import String\n",
    "from actionlib_msgs.msg import GoalStatusArray"
   ]
  },
  {
   "cell_type": "code",
   "execution_count": 2,
   "id": "8687b9b4",
   "metadata": {
    "ExecuteTime": {
     "end_time": "2023-04-12T15:57:56.885961Z",
     "start_time": "2023-04-12T15:57:56.802540Z"
    }
   },
   "outputs": [],
   "source": [
    "def status_callback(msg1):\n",
    "    #global tarjet_reached, tarjet_cancelled\n",
    "    #status=msg1.status\n",
    "    #if status==3:\n",
    "    #    tarjet_reached=tarject_reached+1\n",
    "    #if status==2:\n",
    "    #    tarjet_cancelled=tarjet_cancelled+1\n",
    "    list1=msg1.status_list\n",
    "    #indices = [1, 4]\n",
    "    #elements = []\n",
    "    #for index in indices:\n",
    "    #    elements.append(list[index])\n",
    "\n",
    "    #print(type(list1))\n",
    "    for item in msg1.status_list:\n",
    "         print(item)"
   ]
  },
  {
   "cell_type": "code",
   "execution_count": 3,
   "id": "e30d1341",
   "metadata": {
    "ExecuteTime": {
     "end_time": "2023-04-12T15:57:57.357808Z",
     "start_time": "2023-04-12T15:57:56.915594Z"
    }
   },
   "outputs": [
    {
     "data": {
      "application/vnd.jupyter.widget-view+json": {
       "model_id": "f35f6b4fab8a44eeb1dd9f8e4fdbdf12",
       "version_major": 2,
       "version_minor": 0
      },
      "text/plain": [
       "VBox(children=(HBox(children=(Button(description='Stop', style=ButtonStyle()),)), Output(layout=Layout(border=…"
      ]
     },
     "metadata": {},
     "output_type": "display_data"
    }
   ],
   "source": [
    "rospy.init_node('jupyter_node_2')\n",
    "jr.subscribe('/reaching_goal/status', GoalStatusArray, status_callback)"
   ]
  }
 ],
 "metadata": {
  "kernelspec": {
   "display_name": "Python 3 (ipykernel)",
   "language": "python",
   "name": "python3"
  },
  "language_info": {
   "codemirror_mode": {
    "name": "ipython",
    "version": 3
   },
   "file_extension": ".py",
   "mimetype": "text/x-python",
   "name": "python",
   "nbconvert_exporter": "python",
   "pygments_lexer": "ipython3",
   "version": "3.8.10"
  },
  "toc": {
   "base_numbering": 1,
   "nav_menu": {},
   "number_sections": true,
   "sideBar": true,
   "skip_h1_title": false,
   "title_cell": "Table of Contents",
   "title_sidebar": "Contents",
   "toc_cell": false,
   "toc_position": {},
   "toc_section_display": true,
   "toc_window_display": false
  },
  "varInspector": {
   "cols": {
    "lenName": 16,
    "lenType": 16,
    "lenVar": 40
   },
   "kernels_config": {
    "python": {
     "delete_cmd_postfix": "",
     "delete_cmd_prefix": "del ",
     "library": "var_list.py",
     "varRefreshCmd": "print(var_dic_list())"
    },
    "r": {
     "delete_cmd_postfix": ") ",
     "delete_cmd_prefix": "rm(",
     "library": "var_list.r",
     "varRefreshCmd": "cat(var_dic_list()) "
    }
   },
   "types_to_exclude": [
    "module",
    "function",
    "builtin_function_or_method",
    "instance",
    "_Feature"
   ],
   "window_display": false
  }
 },
 "nbformat": 4,
 "nbformat_minor": 5
}
