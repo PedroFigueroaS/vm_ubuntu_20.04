{
 "cells": [
  {
   "cell_type": "code",
   "execution_count": 1,
   "id": "e73a9569",
   "metadata": {
    "ExecuteTime": {
     "end_time": "2023-04-12T15:22:21.391121Z",
     "start_time": "2023-04-12T15:22:19.392408Z"
    }
   },
   "outputs": [],
   "source": [
    "%matplotlib widget\n",
    "import numpy as np\n",
    "import matplotlib.pyplot as plt\n",
    "import jupyros as jr\n",
    "import rospy\n",
    "from nav_msgs.msg import Odometry\n",
    "from actionlib_msgs.msg import GoalStatusArray\n",
    "import ipywidgets as widgets\n"
   ]
  },
  {
   "cell_type": "code",
   "execution_count": 2,
   "id": "e5f8e81a",
   "metadata": {
    "ExecuteTime": {
     "end_time": "2023-04-12T15:22:21.774769Z",
     "start_time": "2023-04-12T15:22:21.403306Z"
    },
    "scrolled": false
   },
   "outputs": [
    {
     "data": {
      "text/plain": [
       "Text(0, 0.5, 'y')"
      ]
     },
     "execution_count": 2,
     "metadata": {},
     "output_type": "execute_result"
    },
    {
     "data": {
      "application/vnd.jupyter.widget-view+json": {
       "model_id": "c085a4aa38744474b3ccaa238ac89c25",
       "version_major": 2,
       "version_minor": 0
      },
      "image/png": "[encoded data removed]",
      "text/html": [
       "\n",
       "            <div style=\"display: inline-block;\">\n",
       "                <div class=\"jupyter-widgets widget-label\" style=\"text-align: center;\">\n",
       "                    Figure\n",
       "                </div>\n",
       "                <img src='data:image/png;base64,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' width=640.0/>\n",
       "            </div>\n",
       "        "
      ],
      "text/plain": [
       "Canvas(toolbar=Toolbar(toolitems=[('Home', 'Reset original view', 'home', 'home'), ('Back', 'Back to previous …"
      ]
     },
     "metadata": {},
     "output_type": "display_data"
    }
   ],
   "source": [
    "global px, py\n",
    "px=0\n",
    "py=0\n",
    "x_data=[]\n",
    "y_data=[]\n",
    "fig = plt.figure()\n",
    "ax = fig.add_axes([0,0,1,1])\n",
    "line, = ax.plot([], [], 'ro')\n",
    "ax.set_xlim(( -20, 20))\n",
    "ax.set_ylim((-20, 20))\n",
    "ax.set_title(\"my_robot\")\n",
    "ax.set_xlabel(\"x\")\n",
    "ax.set_ylabel(\"y\")"
   ]
  },
  {
   "cell_type": "code",
   "execution_count": 3,
   "id": "594598d1",
   "metadata": {
    "ExecuteTime": {
     "end_time": "2023-04-12T15:22:21.861626Z",
     "start_time": "2023-04-12T15:22:21.803040Z"
    }
   },
   "outputs": [],
   "source": [
    "from __future__ import print_function\n",
    "import rospy\n",
    "from geometry_msgs.msg import Point, Pose, Twist\n",
    "from geometry_msgs.msg import PoseStamped\n",
    "from sensor_msgs.msg import LaserScan\n",
    "from nav_msgs.msg import Odometry\n",
    "import math\n",
    "import actionlib\n",
    "import actionlib.msg\n",
    "import assignment_2_2022.msg\n",
    "from tf import transformations\n",
    "from std_srvs.srv import *\n",
    "import time\n",
    "from assignment_2_2022.msg import nodeA\n",
    "\n",
    "import actionlib\n",
    "import actionlib_msgs\n",
    "import assignment_2_2022.msg\n",
    "global xpos, ypos, tarjet_reached, tarjet_cancelled\n",
    "xpos=0\n",
    "ypos=0\n",
    "tarjet_reached=0\n",
    "tarjet_cancelled=0"
   ]
  },
  {
   "cell_type": "code",
   "execution_count": 4,
   "id": "ea06c9ee",
   "metadata": {
    "ExecuteTime": {
     "end_time": "2023-04-12T15:22:21.934990Z",
     "start_time": "2023-04-12T15:22:21.907136Z"
    }
   },
   "outputs": [],
   "source": [
    "def user_select():\n",
    " \n",
    "    op=input(\"choose action: \")#enter the desired option\n",
    "    if(op==\"1\"): #if set new target, go to new_position()\n",
    "        new_position()\n",
    "    elif(op==\"2\"):\n",
    "        cancel_sim()#if cancel the target, go to cancel_sim()\n",
    "    #Main program"
   ]
  },
  {
   "cell_type": "code",
   "execution_count": 5,
   "id": "4ee2e36f",
   "metadata": {
    "ExecuteTime": {
     "end_time": "2023-04-12T15:22:22.015010Z",
     "start_time": "2023-04-12T15:22:21.946100Z"
    }
   },
   "outputs": [],
   "source": [
    "def odom_callback(msg):\n",
    "    global x_data, y_data, px, py\n",
    "    px=msg.pose.pose.position.x\n",
    "    py=msg.pose.pose.position.y\n",
    "    y_data.append(msg.pose.pose.position.y)\n",
    "    x_data.append(msg.pose.pose.position.x)"
   ]
  },
  {
   "cell_type": "code",
   "execution_count": 6,
   "id": "5a4ed593",
   "metadata": {
    "ExecuteTime": {
     "end_time": "2023-04-12T15:22:22.153986Z",
     "start_time": "2023-04-12T15:22:22.044284Z"
    }
   },
   "outputs": [
    {
     "data": {
      "application/vnd.jupyter.widget-view+json": {
       "model_id": "c8e2426eb27d49b8b6249c043d9c31ce",
       "version_major": 2,
       "version_minor": 0
      },
      "text/plain": [
       "VBox(children=(HBox(children=(Button(description='Stop', style=ButtonStyle()),)), Output(layout=Layout(border=…"
      ]
     },
     "metadata": {},
     "output_type": "display_data"
    }
   ],
   "source": [
    "#rospy.init_node('odom_visualizer_node')\n",
    "jr.subscribe('/odom', Odometry, odom_callback)"
   ]
  },
  {
   "cell_type": "code",
   "execution_count": 7,
   "id": "f0938e52",
   "metadata": {
    "ExecuteTime": {
     "end_time": "2023-04-12T15:22:22.207321Z",
     "start_time": "2023-04-12T15:22:22.156765Z"
    },
    "scrolled": true
   },
   "outputs": [],
   "source": [
    "from IPython.display import display\n",
    "\n",
    "button = widgets.Button(description=\"Current position\")\n",
    "output = widgets.Output()\n",
    "\n",
    "button1 = widgets.Button(description=\"Set position\")\n",
    "output1 = widgets.Output()\n",
    "\n",
    "button2 = widgets.Button(description=\"Cancel position\")\n",
    "output2 = widgets.Output()\n",
    "\n",
    "button3 = widgets.Button(description=\"Send position\")\n",
    "output3 = widgets.Output()\n",
    "\n",
    "button4 = widgets.Button(description=\"Goals status\")\n",
    "output4 = widgets.Output()\n"
   ]
  },
  {
   "cell_type": "code",
   "execution_count": 8,
   "id": "c5333799",
   "metadata": {
    "ExecuteTime": {
     "end_time": "2023-04-12T15:22:22.294526Z",
     "start_time": "2023-04-12T15:22:22.214924Z"
    }
   },
   "outputs": [],
   "source": [
    "def on_button_clicked(b):\n",
    "    global px, py\n",
    "    print('pos x: ',px)\n",
    "    print('pos y: ',py)\n",
    "    #np_x_plot = np.array(x_data)\n",
    "    #np_y_plot = np.array(y_data)\n",
    "    #fig = plt.cla()\n",
    "    #ax.set_xlim(( -20, 20))\n",
    "    #ax.set_ylim((-20, 20))\n",
    "    #ax.plot(np_x_plot,np_y_plot)"
   ]
  },
  {
   "cell_type": "code",
   "execution_count": 9,
   "id": "8ccea81d",
   "metadata": {
    "ExecuteTime": {
     "end_time": "2023-04-12T15:22:22.373443Z",
     "start_time": "2023-04-12T15:22:22.325906Z"
    }
   },
   "outputs": [],
   "source": [
    "def cancel_sim(b):\n",
    "    #global client\n",
    "    #client = actionlib.SimpleActionClient('/reaching_goal',assignment_2_2022.msg.PlanningAction)\n",
    "    client.cancel_goal()#send a signal to cancel the action of reaching the new target\n",
    "    print(\"goal cancelled: going back to user select...\")\n",
    "    #user_select() #send the new goal to the client server\n"
   ]
  },
  {
   "cell_type": "code",
   "execution_count": 19,
   "id": "d1ac9f69",
   "metadata": {
    "ExecuteTime": {
     "end_time": "2023-04-12T15:23:08.107127Z",
     "start_time": "2023-04-12T15:23:08.099402Z"
    }
   },
   "outputs": [],
   "source": [
    "def status_callback(msg1):\n",
    "    #global tarjet_reached, tarjet_cancelled\n",
    "    #status=msg1.status\n",
    "    #if status==3:\n",
    "    #    tarjet_reached=tarject_reached+1\n",
    "    #if status==2:\n",
    "    #    tarjet_cancelled=tarjet_cancelled+1\n",
    "    print(msg1.status_list.status)"
   ]
  },
  {
   "cell_type": "code",
   "execution_count": 11,
   "id": "362d2f2f",
   "metadata": {
    "ExecuteTime": {
     "end_time": "2023-04-12T15:22:22.499236Z",
     "start_time": "2023-04-12T15:22:22.444644Z"
    }
   },
   "outputs": [],
   "source": [
    "def status_button(b):\n",
    "    global tarjet_reached, tarjet_cancelled\n",
    "    print('goals reached: ',tarjet_reached)\n",
    "    print('goals cancelled: ',tarjet_cancelled)"
   ]
  },
  {
   "cell_type": "code",
   "execution_count": 12,
   "id": "016c5900",
   "metadata": {
    "ExecuteTime": {
     "end_time": "2023-04-12T15:22:22.571457Z",
     "start_time": "2023-04-12T15:22:22.510758Z"
    },
    "scrolled": true
   },
   "outputs": [],
   "source": [
    "#rospy.init_node('odom_visualizer_node')\n",
    "jr.subscribe('/reaching_goal/status', GoalStatusArray, status_callback)"
   ]
  },
  {
   "cell_type": "code",
   "execution_count": 13,
   "id": "8648a7a6",
   "metadata": {
    "ExecuteTime": {
     "end_time": "2023-04-12T15:22:22.610128Z",
     "start_time": "2023-04-12T15:22:22.574019Z"
    },
    "scrolled": false
   },
   "outputs": [
    {
     "data": {
      "application/vnd.jupyter.widget-view+json": {
       "model_id": "0f5dfcd80a164d5da5bf7a984b1d7809",
       "version_major": 2,
       "version_minor": 0
      },
      "text/plain": [
       "IntSlider(value=0, description='Set posx:', max=10, min=-10)"
      ]
     },
     "metadata": {},
     "output_type": "display_data"
    },
    {
     "data": {
      "application/vnd.jupyter.widget-view+json": {
       "model_id": "9dae2f7dfb9242cdba44a75d6f451501",
       "version_major": 2,
       "version_minor": 0
      },
      "text/plain": [
       "IntSlider(value=0, description='Set posy:', max=10, min=-10)"
      ]
     },
     "metadata": {},
     "output_type": "display_data"
    }
   ],
   "source": [
    "global xpos, ypos\n",
    "x_new = widgets.IntSlider(min=-10,max=10,step=1,description='Set posx:')\n",
    "y_new = widgets.IntSlider(min=-10,max=10,step=1,description='Set posy:')\n",
    "display(x_new,y_new)\n",
    "x_pos=x_new.value\n",
    "y_pos=y_new.value"
   ]
  },
  {
   "cell_type": "code",
   "execution_count": 14,
   "id": "7e9111b9",
   "metadata": {
    "ExecuteTime": {
     "end_time": "2023-04-12T15:22:22.636144Z",
     "start_time": "2023-04-12T15:22:22.615535Z"
    }
   },
   "outputs": [],
   "source": [
    "def send_position(b):\n",
    "    #global client\n",
    "    global xpos, ypos\n",
    "    print('new position send: ',x_new.value,y_new.value)\n",
    "    goal=PoseStamped()\n",
    "    goal.pose.position.x=x_new.value\n",
    "    goal.pose.position.y=y_new.value\n",
    "    goal = assignment_2_2022.msg.PlanningGoal(goal)\n",
    " #send the new goal to the client server\n",
    "    client.send_goal(goal)\n",
    "    "
   ]
  },
  {
   "cell_type": "code",
   "execution_count": 15,
   "id": "76c379f2",
   "metadata": {
    "ExecuteTime": {
     "end_time": "2023-04-12T15:22:22.695056Z",
     "start_time": "2023-04-12T15:22:22.637815Z"
    },
    "scrolled": false
   },
   "outputs": [
    {
     "data": {
      "application/vnd.jupyter.widget-view+json": {
       "model_id": "d9474e3367684a438f09f578e1301f91",
       "version_major": 2,
       "version_minor": 0
      },
      "text/plain": [
       "Button(description='Current position', style=ButtonStyle())"
      ]
     },
     "metadata": {},
     "output_type": "display_data"
    },
    {
     "data": {
      "application/vnd.jupyter.widget-view+json": {
       "model_id": "fd91d17a894b40a3b1ec599e4cc93c72",
       "version_major": 2,
       "version_minor": 0
      },
      "text/plain": [
       "Output()"
      ]
     },
     "metadata": {},
     "output_type": "display_data"
    },
    {
     "data": {
      "application/vnd.jupyter.widget-view+json": {
       "model_id": "6e6ca2f7a1ab4a3ea6b47ce796a400fc",
       "version_major": 2,
       "version_minor": 0
      },
      "text/plain": [
       "Button(description='Cancel position', style=ButtonStyle())"
      ]
     },
     "metadata": {},
     "output_type": "display_data"
    },
    {
     "data": {
      "application/vnd.jupyter.widget-view+json": {
       "model_id": "e634180e40784d1582ea9196622dad28",
       "version_major": 2,
       "version_minor": 0
      },
      "text/plain": [
       "Output()"
      ]
     },
     "metadata": {},
     "output_type": "display_data"
    },
    {
     "data": {
      "application/vnd.jupyter.widget-view+json": {
       "model_id": "2cd8b03528384923aa36908a39886dde",
       "version_major": 2,
       "version_minor": 0
      },
      "text/plain": [
       "Button(description='Send position', style=ButtonStyle())"
      ]
     },
     "metadata": {},
     "output_type": "display_data"
    },
    {
     "data": {
      "application/vnd.jupyter.widget-view+json": {
       "model_id": "42b73bc667404f30832d940ad10cfafa",
       "version_major": 2,
       "version_minor": 0
      },
      "text/plain": [
       "Output()"
      ]
     },
     "metadata": {},
     "output_type": "display_data"
    },
    {
     "name": "stdout",
     "output_type": "stream",
     "text": [
      "pos x:  0.19757620490148173\n",
      "pos y:  1.3538244346566266\n",
      "new position send:  1 2\n",
      "goal cancelled: going back to user select...\n"
     ]
    }
   ],
   "source": [
    "button.on_click(on_button_clicked)\n",
    "button2.on_click(cancel_sim)\n",
    "button3.on_click(send_position)\n",
    "#button4.on_click(status_button)\n",
    "\n",
    "display(button, output)\n",
    "display(button2, output2)\n",
    "display(button3,output3)\n",
    "#display(button4,output4)"
   ]
  },
  {
   "cell_type": "code",
   "execution_count": 16,
   "id": "3b1be13f",
   "metadata": {
    "ExecuteTime": {
     "end_time": "2023-04-12T15:22:22.712284Z",
     "start_time": "2023-04-12T15:22:22.700574Z"
    }
   },
   "outputs": [],
   "source": [
    "#rospy.init_node('odom_visualizer_node')\n",
    "#jr.subscribe('/odom', Odometry, odom_callback)"
   ]
  },
  {
   "cell_type": "code",
   "execution_count": 17,
   "id": "bf7c026b",
   "metadata": {
    "ExecuteTime": {
     "end_time": "2023-04-12T15:22:23.211002Z",
     "start_time": "2023-04-12T15:22:22.721302Z"
    },
    "scrolled": true
   },
   "outputs": [],
   "source": [
    "#print(xpos,ypos)\n",
    "rospy.init_node('nodeAclient')  # Initializes a rospy node\n",
    "client = actionlib.SimpleActionClient('/reaching_goal',assignment_2_2022.msg.PlanningAction)#create a client object for an Action client related to the message files Planning.action\n",
    "\n",
    "#user_select()#enter to the main user interface"
   ]
  },
  {
   "cell_type": "code",
   "execution_count": null,
   "id": "c2642fb1",
   "metadata": {},
   "outputs": [],
   "source": []
  }
 ],
 "metadata": {
  "kernelspec": {
   "display_name": "Python 3 (ipykernel)",
   "language": "python",
   "name": "python3"
  },
  "language_info": {
   "codemirror_mode": {
    "name": "ipython",
    "version": 3
   },
   "file_extension": ".py",
   "mimetype": "text/x-python",
   "name": "python",
   "nbconvert_exporter": "python",
   "pygments_lexer": "ipython3",
   "version": "3.8.10"
  },
  "toc": {
   "base_numbering": 1,
   "nav_menu": {},
   "number_sections": true,
   "sideBar": true,
   "skip_h1_title": false,
   "title_cell": "Table of Contents",
   "title_sidebar": "Contents",
   "toc_cell": false,
   "toc_position": {},
   "toc_section_display": true,
   "toc_window_display": false
  },
  "varInspector": {
   "cols": {
    "lenName": 16,
    "lenType": 16,
    "lenVar": 40
   },
   "kernels_config": {
    "python": {
     "delete_cmd_postfix": "",
     "delete_cmd_prefix": "del ",
     "library": "var_list.py",
     "varRefreshCmd": "print(var_dic_list())"
    },
    "r": {
     "delete_cmd_postfix": ") ",
     "delete_cmd_prefix": "rm(",
     "library": "var_list.r",
     "varRefreshCmd": "cat(var_dic_list()) "
    }
   },
   "types_to_exclude": [
    "module",
    "function",
    "builtin_function_or_method",
    "instance",
    "_Feature"
   ],
   "window_display": false
  }
 },
 "nbformat": 4,
 "nbformat_minor": 5
}
