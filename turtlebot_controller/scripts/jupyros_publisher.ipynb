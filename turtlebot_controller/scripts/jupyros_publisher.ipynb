{
 "cells": [
  {
   "cell_type": "code",
   "execution_count": 1,
   "id": "855d8a73",
   "metadata": {
    "ExecuteTime": {
     "end_time": "2023-04-06T15:54:16.146683Z",
     "start_time": "2023-04-06T15:54:15.037470Z"
    }
   },
   "outputs": [],
   "source": [
    "import jupyros as jr\n",
    "import rospy\n",
    "from std_msgs.msg import String\n",
    "from geometry_msgs.msg import Twist"
   ]
  },
  {
   "cell_type": "code",
   "execution_count": 2,
   "id": "185cbdc0",
   "metadata": {
    "ExecuteTime": {
     "end_time": "2023-04-06T15:54:16.174672Z",
     "start_time": "2023-04-06T15:54:16.153646Z"
    }
   },
   "outputs": [],
   "source": [
    "#rospy.init_node('jupyter_node')\n",
    "#jr.publish('/turtle1/cmd_vel', Twist)"
   ]
  },
  {
   "cell_type": "code",
   "execution_count": 3,
   "id": "2bbd63fd",
   "metadata": {
    "ExecuteTime": {
     "end_time": "2023-04-06T15:54:16.190209Z",
     "start_time": "2023-04-06T15:54:16.184947Z"
    }
   },
   "outputs": [],
   "source": [
    "#from turtlesim.msg import Pose\n",
    "#jr.live_plot(\"/turtle1/pose/:x:y\", Pose, 10000)\n"
   ]
  },
  {
   "cell_type": "code",
   "execution_count": 4,
   "id": "856388c6",
   "metadata": {
    "ExecuteTime": {
     "end_time": "2023-04-06T15:54:16.244102Z",
     "start_time": "2023-04-06T15:54:16.210031Z"
    }
   },
   "outputs": [
    {
     "data": {
      "text/plain": [
       "Viewer(objects=[GridModel(), LaserScan(ros=ROSConnection(url='ws://localhost:9090'), tf_client=TFClient(fixed_…"
      ]
     },
     "metadata": {},
     "output_type": "display_data"
    }
   ],
   "source": [
    "from jupyros.ros1 import ros3d\n",
    "\n",
    "v = ros3d.Viewer()\n",
    "rc = ros3d.ROSConnection(url=\"ws://localhost:9090\")\n",
    "tf_client = ros3d.TFClient(ros=rc, fixed_frame='map')\n",
    "\n",
    "\n",
    "laser_view = ros3d.LaserScan(topic=\"/scan\", ros=rc, tf_client=tf_client)\n",
    "g = ros3d.GridModel()\n",
    "v.objects = [g, laser_view]\n",
    "v\n"
   ]
  },
  {
   "cell_type": "code",
   "execution_count": null,
   "id": "3f7daf00",
   "metadata": {},
   "outputs": [],
   "source": []
  },
  {
   "cell_type": "code",
   "execution_count": null,
   "id": "409f7bc2",
   "metadata": {},
   "outputs": [],
   "source": []
  }
 ],
 "metadata": {
  "kernelspec": {
   "display_name": "Python 3 (ipykernel)",
   "language": "python",
   "name": "python3"
  },
  "language_info": {
   "codemirror_mode": {
    "name": "ipython",
    "version": 3
   },
   "file_extension": ".py",
   "mimetype": "text/x-python",
   "name": "python",
   "nbconvert_exporter": "python",
   "pygments_lexer": "ipython3",
   "version": "3.8.10"
  },
  "toc": {
   "base_numbering": 1,
   "nav_menu": {},
   "number_sections": true,
   "sideBar": true,
   "skip_h1_title": false,
   "title_cell": "Table of Contents",
   "title_sidebar": "Contents",
   "toc_cell": false,
   "toc_position": {},
   "toc_section_display": true,
   "toc_window_display": false
  },
  "varInspector": {
   "cols": {
    "lenName": 16,
    "lenType": 16,
    "lenVar": 40
   },
   "kernels_config": {
    "python": {
     "delete_cmd_postfix": "",
     "delete_cmd_prefix": "del ",
     "library": "var_list.py",
     "varRefreshCmd": "print(var_dic_list())"
    },
    "r": {
     "delete_cmd_postfix": ") ",
     "delete_cmd_prefix": "rm(",
     "library": "var_list.r",
     "varRefreshCmd": "cat(var_dic_list()) "
    }
   },
   "types_to_exclude": [
    "module",
    "function",
    "builtin_function_or_method",
    "instance",
    "_Feature"
   ],
   "window_display": false
  }
 },
 "nbformat": 4,
 "nbformat_minor": 5
}
